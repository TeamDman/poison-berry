{
 "cells": [
  {
   "cell_type": "code",
   "execution_count": 4,
   "metadata": {},
   "outputs": [
    {
     "data": {
      "text/html": [
       "<pre style=\"white-space:pre;overflow-x:auto;line-height:normal;font-family:Menlo,'DejaVu Sans Mono',consolas,'Courier New',monospace\">Manim Community <span style=\"color: #008000; text-decoration-color: #008000\">v0.16.0.post0</span>\n",
       "\n",
       "</pre>\n"
      ],
      "text/plain": [
       "Manim Community \u001b[32mv0.\u001b[0m\u001b[32m16.0\u001b[0m\u001b[32m.post0\u001b[0m\n",
       "\n"
      ]
     },
     "metadata": {},
     "output_type": "display_data"
    }
   ],
   "source": [
    "from manim import *"
   ]
  },
  {
   "cell_type": "code",
   "execution_count": 22,
   "metadata": {},
   "outputs": [
    {
     "name": "stderr",
     "output_type": "stream",
     "text": [
      "                                                                                                                                         \r"
     ]
    },
    {
     "data": {
      "text/html": [
       "<video src=\"media\\jupyter\\OpeningManim@2022-11-05@01-08-07.mp4\" controls autoplay loop style=\"max-width: 60%;\"  >\n",
       "      Your browser does not support the <code>video</code> element.\n",
       "    </video>"
      ],
      "text/plain": [
       "<IPython.core.display.Video object>"
      ]
     },
     "metadata": {},
     "output_type": "display_data"
    }
   ],
   "source": [
    "%%manim -qm -v WARNING OpeningManim\n",
    "\n",
    "class OpeningManim(Scene):\n",
    "    def construct(self):\n",
    "        title = Text(r\"The berry puzzle\", font=\"Arial\", color=BLUE)\n",
    "        # VGroup(title, image).arrange(DOWN)\n",
    "        self.play(Write(title))\n",
    "        self.wait()\n",
    "\n",
    "        image = ImageMobject(\"berries.jpg\").scale(1.2)\n",
    "        self.play(FadeIn(image, shift=UP), Unwrite(title))\n",
    "        self.wait()\n",
    "\n",
    "        rule1 = Text(r\"1. There are 27 bowls of berries.\")\n",
    "        rule2 = Text(r\"2. All the berries in one bowl (unknown) are poisonous.\")\n",
    "        rule3 = Text(r\"3. The poison kills any time within 45 minutes.\")\n",
    "        rule4 = Text(r\"4. You have three servants available for testing bowls.\")\n",
    "        rule5 = Text(r\"5. You may not risk your own life.\")\n",
    "        rule6 = Text(r\"6. You have two hours to identify which bowl contains poison.\")\n",
    "        rules = [rule1, rule2, rule3, rule4, rule5, rule6]\n",
    "        rules_group = VGroup(*rules).arrange(DOWN, buff=0.5, aligned_edge=LEFT).scale(0.5)\n",
    "        self.play(FadeOut(image), Write(rules_group))\n",
    "        self.wait()\n",
    "\n",
    "        self.play(rules_group.animate.set_opacity(0.5))\n",
    "        self.wait()\n",
    "\n",
    "        self.play(rule3.animate.set_opacity(1))\n",
    "        self.play(rule6.animate.set_opacity(1))\n",
    "        self.wait()\n",
    "\n",
    "        total_time_eqn = Tex(r\"$2 * 60 = 120$\").next_to(rules_group, DOWN, buff=1)\n",
    "        attempts_eqn = Tex(r\"$\\frac{120}{45} = 2.\\overline{6}$\").next_to(total_time_eqn, DOWN)\n",
    "        self.play(Write(total_time_eqn), Write(attempts_eqn))\n",
    "        self.wait()\n",
    "\n",
    "        rule3_old = rule3\n",
    "        rule3 = Text(r\"3. You may perform two rounds of trials\").scale(0.5).move_to(rule3_old)\n",
    "        self.play(\n",
    "            FadeOut(rule3_old),\n",
    "            FadeIn(rule3),\n",
    "            FadeOut(total_time_eqn, shift=DOWN),\n",
    "            FadeOut(attempts_eqn, shift=DOWN),\n",
    "        )\n",
    "\n",
    "        \n",
    "        \n",
    "        self.wait(5)\n",
    "\n",
    "        # counting = [\n",
    "        #     Text(x) for x in range(1, 60*)\n",
    "        # ] "
   ]
  },
  {
   "cell_type": "code",
   "execution_count": null,
   "metadata": {},
   "outputs": [],
   "source": [
    "\n",
    "\n",
    "        # transform_title = Tex(\"That was a transform\")\n",
    "        # transform_title.to_corner(UP + LEFT)\n",
    "        # self.play(\n",
    "        #     Transform(title, transform_title),\n",
    "        #     LaggedStart(*[FadeOut(obj, shift=DOWN) for obj in basel]),\n",
    "        # )\n",
    "        # self.wait()\n",
    "\n",
    "        # grid = NumberPlane(x_range=(- 10, 10, 1), y_range=(- 6.0, 6.0, 1))\n",
    "        # grid_title = Tex(\"This is a grid\")\n",
    "        # grid_title.scale(1.5)\n",
    "        # grid_title.move_to(transform_title)\n",
    "\n",
    "        # self.add(grid, grid_title)  # Make sure title is on top of grid\n",
    "        # self.play(\n",
    "        #     FadeOut(title),\n",
    "        #     FadeIn(grid_title, shift=DOWN),\n",
    "        #     Create(grid, run_time=3, lag_ratio=0.1),\n",
    "        # )\n",
    "        # self.wait()\n",
    "\n",
    "        # grid_transform_title = Tex(\n",
    "        #     r\"That was a non-linear function \\\\ applied to the grid\"\n",
    "        # )\n",
    "        # grid_transform_title.move_to(grid_title, UL)\n",
    "        # grid.prepare_for_nonlinear_transform()\n",
    "        # self.play(\n",
    "        #     grid.animate.apply_function(\n",
    "        #         lambda p: p\n",
    "        #         + np.array(\n",
    "        #             [\n",
    "        #                 np.sin(p[1]),\n",
    "        #                 np.sin(p[0]),\n",
    "        #                 0,\n",
    "        #             ]\n",
    "        #         )\n",
    "        #     ),\n",
    "        #     run_time=3,\n",
    "        # )\n",
    "        # self.wait()\n",
    "        # self.play(Transform(grid_title, grid_transform_title))\n",
    "        # self.wait()\n"
   ]
  }
 ],
 "metadata": {
  "kernelspec": {
   "display_name": "Python 3.10.6 ('berry')",
   "language": "python",
   "name": "python3"
  },
  "language_info": {
   "codemirror_mode": {
    "name": "ipython",
    "version": 3
   },
   "file_extension": ".py",
   "mimetype": "text/x-python",
   "name": "python",
   "nbconvert_exporter": "python",
   "pygments_lexer": "ipython3",
   "version": "3.10.6"
  },
  "orig_nbformat": 4,
  "vscode": {
   "interpreter": {
    "hash": "47e00f45fb227e88cfb0996461c2dbbde33028c51344e6654f76b666eacaab81"
   }
  }
 },
 "nbformat": 4,
 "nbformat_minor": 2
}
